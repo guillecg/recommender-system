{
 "cells": [
  {
   "cell_type": "markdown",
   "metadata": {},
   "source": [
    "## ALS Recommender system example"
   ]
  },
  {
   "cell_type": "markdown",
   "metadata": {},
   "source": [
    "### 1. Spark context and global variables and functions"
   ]
  },
  {
   "cell_type": "code",
   "execution_count": 3,
   "metadata": {},
   "outputs": [],
   "source": [
    "SEED = 42\n",
    "\n",
    "import numpy as np\n",
    "np.random.seed(SEED)\n",
    "\n",
    "from pyspark import SparkContext\n",
    "from pyspark.sql import SQLContext, SparkSession\n",
    "\n",
    "from pyspark.ml.evaluation import RegressionEvaluator\n",
    "from pyspark.ml.recommendation import ALS\n",
    "from pyspark.ml.tuning import ParamGridBuilder, CrossValidator\n",
    "\n",
    "# http://www.learnbymarketing.com/644/recsys-pyspark-als/\n",
    "# https://github.com/narenkmanoharan/Movie-Recommender-System/blob/master/recommender.py\n",
    "# https://www.codementor.io/jadianes/building-a-recommender-with-apache-spark-python-example-app-part1-du1083qbw"
   ]
  },
  {
   "cell_type": "code",
   "execution_count": 4,
   "metadata": {},
   "outputs": [],
   "source": [
    "# Getting the SparkContext\n",
    "sc = SparkContext()\n",
    "\n",
    "# Initializing the SQLContext\n",
    "sqlContext = SQLContext(sc)\n",
    "\n",
    "# Initializing Spark Session\n",
    "spark = SparkSession.builder.appName('recommender-system').getOrCreate()"
   ]
  },
  {
   "cell_type": "code",
   "execution_count": 5,
   "metadata": {},
   "outputs": [],
   "source": [
    "FORMAT_STD_OUT = lambda x, w=12: \\\n",
    "    '[{message: <{width}}]'.format(message=x, width=w)\n",
    "\n",
    "DATA_DIR = 'data/masters/movies/'"
   ]
  },
  {
   "cell_type": "markdown",
   "metadata": {},
   "source": [
    "### 2. Data"
   ]
  },
  {
   "cell_type": "markdown",
   "metadata": {},
   "source": [
    "#### 2.1. Loading the data"
   ]
  },
  {
   "cell_type": "code",
   "execution_count": 6,
   "metadata": {},
   "outputs": [],
   "source": [
    "ratings_header = 'UserID::MovieID::Rating::Timestamp'.split('::')\n",
    "ratings_df = sqlContext.read.csv(\n",
    "    DATA_DIR + 'ratings.dat', header=False, sep=':', inferSchema=True\n",
    ")"
   ]
  },
  {
   "cell_type": "markdown",
   "metadata": {},
   "source": [
    "#### 2.2. Data preprocessing"
   ]
  },
  {
   "cell_type": "code",
   "execution_count": 7,
   "metadata": {},
   "outputs": [
    {
     "name": "stdout",
     "output_type": "stream",
     "text": [
      "root\n",
      " |-- UserID: integer (nullable = true)\n",
      " |-- MovieID: integer (nullable = true)\n",
      " |-- Rating: integer (nullable = true)\n",
      " |-- Timestamp: integer (nullable = true)\n",
      "\n"
     ]
    }
   ],
   "source": [
    "# Extract correct columns (avoid those created by double ':')\n",
    "correct_columns = np.array(ratings_df.columns)\n",
    "correct_columns = correct_columns[range(0, len(ratings_df.columns), 2)]\n",
    "ratings_df = ratings_df.select(correct_columns.tolist())\n",
    "\n",
    "# Rename columns\n",
    "assert len(ratings_header) == len(correct_columns)\n",
    "\n",
    "for i in range(len(ratings_header)):\n",
    "    ratings_df = \\\n",
    "        ratings_df.withColumnRenamed(correct_columns[i], ratings_header[i])\n",
    "ratings_df.printSchema()"
   ]
  },
  {
   "cell_type": "markdown",
   "metadata": {},
   "source": [
    "## 3. Model"
   ]
  },
  {
   "cell_type": "markdown",
   "metadata": {},
   "source": [
    "#### 3.1. Train-test split"
   ]
  },
  {
   "cell_type": "code",
   "execution_count": 8,
   "metadata": {},
   "outputs": [],
   "source": [
    "# Create test and train set\n",
    "train, test = ratings_df.randomSplit([0.7, 0.3], seed=SEED)"
   ]
  },
  {
   "cell_type": "markdown",
   "metadata": {},
   "source": [
    "#### 3.2. Creating the model"
   ]
  },
  {
   "cell_type": "code",
   "execution_count": 9,
   "metadata": {},
   "outputs": [
    {
     "name": "stdout",
     "output_type": "stream",
     "text": [
      "[ALS         ] <class 'pyspark.ml.recommendation.ALS'>\n",
      "[PARAM GRID  ] 6\n",
      "[EVALUATOR   ] RegressionEvaluator_d4c4235750bb\n",
      "[CV          ] CrossValidator_4fc4e84e9b2c\n"
     ]
    }
   ],
   "source": [
    "# Create ALS model\n",
    "als = ALS(\n",
    "    userCol='UserID',\n",
    "    itemCol='MovieID',\n",
    "    ratingCol='Rating',\n",
    "    nonnegative=True,\n",
    "    coldStartStrategy='drop',\n",
    "    implicitPrefs=False\n",
    ")\n",
    "print(FORMAT_STD_OUT('ALS'), type(als))\n",
    "\n",
    "# Add hyperparameters and their respective values to param_grid\n",
    "param_grid = ParamGridBuilder() \\\n",
    "            .addGrid(als.maxIter, [5]) \\\n",
    "            .addGrid(als.rank, [10, 50]) \\\n",
    "            .addGrid(als.regParam, [.01, .05, .15]) \\\n",
    "            .build()\n",
    "print(FORMAT_STD_OUT('PARAM GRID'), len(param_grid))\n",
    "\n",
    "# Define evaluator as RMSE and print evaluator\n",
    "evaluator = RegressionEvaluator(\n",
    "    metricName='rmse',\n",
    "    labelCol='Rating',\n",
    "    predictionCol='prediction'\n",
    ")\n",
    "print(FORMAT_STD_OUT('EVALUATOR'), evaluator)\n",
    "\n",
    "# Build cross validator\n",
    "cv = CrossValidator(\n",
    "    estimator=als,\n",
    "    estimatorParamMaps=param_grid,\n",
    "    evaluator=evaluator,\n",
    "    numFolds=5\n",
    ")\n",
    "print(FORMAT_STD_OUT('CV'), cv)"
   ]
  },
  {
   "cell_type": "markdown",
   "metadata": {},
   "source": [
    "#### 3.3. Training the model"
   ]
  },
  {
   "cell_type": "code",
   "execution_count": 10,
   "metadata": {},
   "outputs": [
    {
     "name": "stdout",
     "output_type": "stream",
     "text": [
      "[BEST MODEL  ] ALS_d5b51911b281\n",
      "rank: 50\n",
      "regParam: 0.05\n",
      "maxIter: 5\n"
     ]
    }
   ],
   "source": [
    "# Fit cross validator to the 'train' dataset\n",
    "model = cv.fit(train)\n",
    "\n",
    "# Extract best model from the cv model above\n",
    "best_model = model.bestModel\n",
    "print(FORMAT_STD_OUT('BEST MODEL'), best_model)\n",
    "\n",
    "get_reg_param = lambda model: model._java_obj.parent().getRegParam()\n",
    "get_max_iter  = lambda model: model._java_obj.parent().getMaxIter()\n",
    "\n",
    "print('rank:', best_model.rank)\n",
    "print('regParam:', get_reg_param(best_model))\n",
    "print('maxIter:', get_max_iter(best_model))"
   ]
  },
  {
   "cell_type": "markdown",
   "metadata": {},
   "source": [
    "#### 3.4. Evaluation"
   ]
  },
  {
   "cell_type": "code",
   "execution_count": 11,
   "metadata": {},
   "outputs": [
    {
     "name": "stdout",
     "output_type": "stream",
     "text": [
      "+------+-------+------+----------+----------+\n",
      "|UserID|MovieID|Rating| Timestamp|prediction|\n",
      "+------+-------+------+----------+----------+\n",
      "|   673|    148|     5| 975620824| 3.0055335|\n",
      "|  3184|    148|     4| 968708953| 2.6920252|\n",
      "|  4784|    148|     3| 970000570| 2.6175513|\n",
      "|   752|    148|     4|1029309135| 1.8079419|\n",
      "|  3829|    148|     2| 965940170| 1.8995509|\n",
      "|   424|    148|     4|1027003224|  3.089113|\n",
      "|  3053|    148|     3| 970170090| 2.3488672|\n",
      "|  3328|    463|     4| 967918151| 3.3068717|\n",
      "|  5306|    463|     2| 961013160| 2.7964902|\n",
      "|  4510|    463|     2| 966800044| 2.1049874|\n",
      "+------+-------+------+----------+----------+\n",
      "only showing top 10 rows\n",
      "\n"
     ]
    }
   ],
   "source": [
    "# View the predictions\n",
    "test_predictions = best_model.transform(test)\n",
    "test_predictions.show(10)"
   ]
  },
  {
   "cell_type": "code",
   "execution_count": 12,
   "metadata": {},
   "outputs": [
    {
     "name": "stdout",
     "output_type": "stream",
     "text": [
      "[RMSE        ] 0.8685174366673392\n"
     ]
    }
   ],
   "source": [
    "# Calculate and print the RMSE of the test_predictions\n",
    "rmse = evaluator.evaluate(test_predictions)\n",
    "print(FORMAT_STD_OUT('RMSE'), rmse)"
   ]
  }
 ],
 "metadata": {
  "kernelspec": {
   "display_name": "Python 3",
   "language": "python",
   "name": "python3"
  },
  "language_info": {
   "codemirror_mode": {
    "name": "ipython",
    "version": 3
   },
   "file_extension": ".py",
   "mimetype": "text/x-python",
   "name": "python",
   "nbconvert_exporter": "python",
   "pygments_lexer": "ipython3",
   "version": "3.6.5"
  }
 },
 "nbformat": 4,
 "nbformat_minor": 2
}
